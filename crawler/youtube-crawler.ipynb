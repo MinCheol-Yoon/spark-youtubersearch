{
 "metadata": {
  "language_info": {
   "codemirror_mode": {
    "name": "ipython",
    "version": 3
   },
   "file_extension": ".py",
   "mimetype": "text/x-python",
   "name": "python",
   "nbconvert_exporter": "python",
   "pygments_lexer": "ipython3",
   "version": "3.8.5-final"
  },
  "orig_nbformat": 2,
  "kernelspec": {
   "name": "scrapingenv1",
   "display_name": "scrapingEnv1"
  }
 },
 "nbformat": 4,
 "nbformat_minor": 2,
 "cells": [
  {
   "source": [
    "# 유튜브 api 크롤링 결과 분석기"
   ],
   "cell_type": "markdown",
   "metadata": {}
  },
  {
   "cell_type": "code",
   "execution_count": 4,
   "metadata": {},
   "outputs": [
    {
     "output_type": "stream",
     "name": "stdout",
     "text": [
      "재미와 감동을 동시에 느낄 수 있는\n감스트의 공식 유튜브 채널 (감튜브) 입니다!\n\n감스트와 같이 찢으실 분들은\n'구독' 눌러주시고 많이 시청하러 오세요 :-D\n\nTo have fun and be touched at the same time\nThe official YouTube channel of GAMST (GAMTUBE) *_*\n\nIf you want to have fun with GAMST\nPlease visit and subscribe to the channel for more videos\n감스트 gamst 김인직 kiminjik 먹방 mukbang meokbang 합방 야방 탐방 공방 토크 talk 리액션 reaction 고전 공포 horror 레이싱 racing 스팀 steam 시뮬레이션 simulation 야구 baseball 플래시 flash fps rts ps4 강화 스쿼드 squad 패키지 package 트레이드 trade 정보 팁 Information Tip 피파온라인 대회 fifaonline championship contest 게임 game 축구 football soccer 벌칙 penalty 웹툰 webtoon 하이라이트 highlight 로그 vlog log 일상 life daily 고양이 cat\n유도김민수 선생님입니다 이날 재미있게 수업하였습니다\n감스트님 유도 수업열정 참여  감사드립니다 다음 기회되면 또 같이 운동해요..이상  샤크김민수입니다.\n\"He is jot bab\"\n8:56 PTSD ON\n7:02 세상편한 아기지렁이....\n4:49 꼭 저러는 잼민이들 있음 ㅋㅋ\n7:01 이형 해병대에서 포미닛만 따라한게 아니라 이것 저것 많이했네 어쩐지 잘하더라...\n5:03 초딩감남\n5:38 \"He is Rammus\"\n9:56 choding ssaum\n8:57 오늘 가장 자연스러움.\n7:04\n김인직 학창시절...\n6:27 역시 듀밑감\n9:00 김민교 패대기치는 감스트\n감남  나잡아봐라 ㅋㅋㅋ\n8:58 민교: 주보리한테 ~ 편집했네 ㅋㅋㅋ\n제목만 봐도 재밌다\n2:35 안아프게맞는법\n5:31 람머스Q\n6:29 람머스W\n감스트 남순이 서로 제일 편하고 친하다고 말하는 이유\n16살이 어찌 중학교 1학년입니까 인직...\n다들 너무 고생 많았구 재밌었습니다!!  :D\nㅋㅋㅋㄲㄱㄲㅋㅋㄱㅋㄲㅋㅋㄲㅋ 오ㅅㅂㄹ ..ㅠ\n8:18 PTSD\n8:11 레전드 부분\n겜스트에 풀버전 올려줄때까지 숨 참는다,,,, 흡!\n오세블리 볼때마다 실버인지 브론즈 티어로 뽑혀서 챌 그마 상대로 할 수 있는거 다하고 힘들었을텐데 솔직히 오세블리가 자기 못한거 다 알고 제일 슬플텐데 쪽지로 뭐라하는건 그렇다. 힘네세요\n8:18 썸넬 합성인줄 알았는데 ㄹㅇ이였네 ㅋㅋㅋㅋㅋ\n10:19 이멤버 리멤버...\n영상 좋아요 좀 눌러주세요!!\n8:19 크로마키 5인궁\n8:18 갓성은의 저주가 또..\n4:17 스트 급발진 ㅋㅋㅋ\n8:19 다들 놀랄때 준밧드 혼자 신난아이처럼 웃고있음 ㅋㅋㅋㅋㅋㅋㅋ\n9:20 아진짜 미치겠닼ㅋㅋㅋㅋㅋㅋㅋㅋㅋㅋㅋㅋㅋㅋㅋㅋㅋㅋㅋㅋㅋㅋㅋㅋㅋㅋㅋㅋㅋㅋㅋㅋㅋㅋㅋㅋㅋㅋㅋㅋㅋㅋㅋㅋㅋ\n근데 뭐 방송이라 그랬겠지만 낮은 티어들한테 너무 많은걸 바라면 안됨ㅠㅠ\n장난이라도 뭐라하면 조금은 상처 받을듯\n4:47 구거도 웃참ㅋㅋㅋㅋㅋㅋㅋㅋㅋㅋㅋㅋㅋㅋㅋㅋㅋ\n5:26 선녀빌드 미쳤넼ㅋㅋㅋㅋㅋㅋㅋ\n8:20 감스트 트라우마생기겠너 ㅋㅋㅋ\n오세블리한테 쪽지까지 쳐보내서 욕하는 새끼들은 ㅋㅋ.. 진짜 평소 행실이 보인다\n10:35 상윤이 개웃기네 ㅋㅋㅋㅋㅋㅋㅋㅋ\n재밌게 봐주시고 영상 좋아요좀 꼭 눌러주세요!!\n겜스트도 사랑부탁드립니당!!\n몇시간 분량을 선수 스킬쿨이랑 캠이랑 다 편집해서 넣는 감집자 존경합니다 ㅠ\n45:15 착착 뺨때리는거 진짜 ㅈㄴ 웃기네\n34:50 이건 진짜 레전드다\n30:33 너구리 정색 하는거 ㅈㄴ웃기네ㅋㅋㅋㅋㅋㅋㅋ\n34:45 이게 천상계인가\n상윤이도 잘하는데 서폿이 진짜 ㅈㄴ 잘한다\n눈꽃 장외,집간척 뇌지컬이랑 피지컬 오진다\n34:50 서폿이 중요한 이유\n민교 진짜 말도잘하고 롤지식도 빠삭해서 인직이가 더 이런컨텐츠 편하게 할 수 있는듯ㅋㅋㅋㅋ 둘 캐미는 진짜 ㄹㅈㄷ다\n24:26 카이사패시브보고 릴카마크 시발 ㅋㅋㅋ 뭔소린가했네\n피글렛 진짜... 폼은 일시적이지만 클래스는 영원하다\n17:08 힐이 빠져버려쩌여\n32:40 초원이 존나 웃다가 갑자기 얌전해지는거 개웃기네 ㅋㅋ\n아 피글렛 아쉽다 ㅠㅠ 진짜 레전드형님인데 나이가 무색해지는 경기엿다 ㄹㅇ 피글렛형님 준나 섹시햇다 와.\n1:26 아나키가 여기서 나오네.. ㅋㅋ 아프리카 프릭스의 전신..\n익수 리라 미키 상윤 눈꽃\n게임 개 재미있게 했었던 팀.. skt도 이기던 의외성을 가지고 있던 팀.. 그립다 잼나키!\n36:54 민교형 팩폭 ㅋㅋㅋㅋㅋ\n52:00 눈꽃 배경 너무 친숙하네 ㅋㅋ\n김민교 진짜 롤 지식 빠삭하네ㅋㅋㅋㅋ 저라뎃도 롤지식은 민교가 본인보다 더 잘안다고 롤박사 교도리 ㅇㅈㄹ했었는데ㅋㅋㅋㅋㅋㅋㅋㅋ\n상윤도 잘했지만 이번 시합은 피글렛이 원딜로써는 최고피지컬을 보여준듯\nㄹㅇ ㅈㄴ잘한다\n정글은 밧튜브로 자리 잡겠습니다.\n이영상 좋아요좀 눌러주세요~!!! 이글도 좋아요좀~!!\n13:40 부터 나는 상윤 개웃기네 진짜 ㅋㅋㅋ\n\"3C2G is legend\"\n15:48 구거 한타 졌는데도 승리각을 보네 ㄷㄷ\n21:51 이건 다시봐도 레전드다\n24:17 와 화면 바뀌는거 개 매끄럽네 ㄷㄷ\n31:45 못했으니까 까도 되는건가\n11:38 개귀엽네 오세블리 감스트 둘다 ㅋㅋㅋ\n13:40부터 상윤이형 개인 화면봐봐 ㅋㅋㅋㅋ\n16:03 딜 넣는거 진짜 깔끔하다\n16:53 우리....라고 했다.우리...\n26:55 감스트 뒷텔 미드 상륙작전 레전드\n9:12 뻘플 썼을 때 쿠로 구거 표정 씹레전드 ㅋㅋㅋㅋㅋㅋ\n9:12 구거랑 쿠로랑 입막는거 개웃기네 ㅋㅋㅋㅋㅋㅋㅋㅋ\n20:26 오세블리 개맛있다\n24:18 와 편집 겁나 자연스러워 무쳤다\n13:46 움짤 뭔데 ㅋㅋ\n13:39 상윤이 캠 ㅅㅂ ㅋㅋㅋㅋㅋㅋㅋㅋ\n13:38 여기부터 한전드 계속 고통받네ㅋㅋ\n#구독#좋아요#감스트도좋아요\n안녕하세요 히밥입니다\n이렇게 영광스러운 자리에 초대해주셔서 정말 감사합니다!\n진짜 역대급인 푸파는 또 처음이네요 ㅎㅎ \n다음에는 10명이서 덤벼주세요 안녕히계세요\n-감스트의 검 히밥 올림- 빠끄!\n안녕하세요 미국가수 제이슨 레이입니다.  저는 감스트를 좋아합니다. 감스트팀이 이길 수 있다고 생각했습니다. 슬픕니다. 다음에는 감스트님이 이길 수 있습니다. 응원합니다!!!\n8:57 토할뻔..은드립이구여!ㅎ\n스트형 저것밖에 못먹어서 미안해...  비제이 빛가오 \n야물딱지게 더못쳐먹어서 죄송합니다 ㅎㅎ\n인....직  업 !\n진짜 미쳤다 이분 쯔양이랑 히밥님이랑 먹방 하면 가슴이 웅장해질거같다.\n9:39 heebab starts in a 13min video. Game over guys\n비제이들 무슨일 생길까봐 엠뷸런스 불러놓은거 보고 소름 돋았습니다...이러니까 월클이지 라고 생각함...감스트 사랑해❤\n7:10 왜 째려봐 ㅅㅂ ㅋㅋㄲㅋㄱㅋㄱㅋㄱㅋㄱㅋㄱㅋㄲㅋㄱㅋㄱㅋㄲㅋㄱㅋㅋㄲㅋㅋㄲㅋㄱㅋㄱㅋㅋㅋㅋㅋㄱㅋㄱㅋㅋㄱㅋㄱㅋㅋ 뻘하게 터졌다 진짜 ㅋㅋㅋㅋㄱㅋㄱㅋㄱㅋㅋㅋㅋㅋㅋㅋ\n11:05 킹기훈 조용히 휴지 챙겨주는 거 봐 ㅠㅠ\n6:27 짜장면 1 쉿 10\n뭔데진짴ㅋㅋㅋㅋㅋㅋㅋㅋㅋㅋㅋㅋㅋㅋㅋㅋㅋㅋㅋ아 쉿 하는거도 웃기고 그걸 또 세어서 자막으로 넣은 편집자도 개웃곀ㅋㅋㅋㅋㅋㅋㅋㅋㅋㅋㅋㅋㅋㅋㅋ\n남자친구 돈 많이 벌어야겠다고 했을 때 자기가 벌면 된다고 하는 거 ㅈㄴ멋있다ㅋㅋ\n9:20 혀로 가린거아니냐 ㅅㅂㅋㅋㅋㅋㅋㅋㅋㅋㅋ\n9:40 킹기훈ㅋㅋㅋㅋㅌㅋㅋㅋㅌㅋㅋ졸라 기엽게 물어보넼ㅋㅋㅋㅋㅋㅋㅋㅋㅋㅋ\n2:50 철구와 감스트의 큰 차이점\n7:09 사장이 당황해서 스트 쳐다보는거 존나 웃기네 씹ㅋㅋㅋㅋㅋㅋㅋㅋㅋㅋㅋㅋㅋㅋㅋ\n영상 좋아요 좀 꼭 눌러주세요!!!!!!!!! 이글도 좋아요좀!!\n그니까 저날 히밥은  저녁시간동안   초밥50개 햄버거 5개 짜장면 5개 집가서  감자탕에 사리추가히고 볶음밥을 볶아먹고 후식으로 대왕 센드위치를 드신거라는거잖아ㅋㅋㅋㅋㅋㅋㅋㅋ\n2:05 괴짜가족 국회의원 ㅋㅋㅋㅋㅋㅋ\n진짜 ㄹㄱㄴ지 모르는사람 유튜브에 쳐보세요 ㅋㅋㅋㅋㅋㅋ\n11:03 기훈이형 티슈챙겨주는거 스윗하놐ㅋㅋㅋㅋ\n11:32 \"애가 얼면 애여\" \n손나 멋있다\n감스트님 불러주셔서감사합니다! 다음에 한번더 기회가되어 불러주시면 더열심히 먹어보겠습니다 !\n영상 좋아요(따봉마크)좀 눌러주시면 감사하겠습니다 !! 코로나 조심하시고 주말 좋은일 만 생기세요!!\n역시 기모찌맨 스트형 기살려주면서 기분좋게해주는것 봐라 ㄷㄷ\n6:28 오세블리 인생카이팅 시작\n\" 내가 기분좋게 해줄게♡\"\n                                            – 기모찌맨\n5:54 ㅋㅋㅋㅋ무라마나 드립 개웃기다ㅋㅋ\n7:33 무슨 염소냐고 ㅅㅂㅋㅋㅋㅋ\n아니 씨발ㅋㅋㄱㄱㄱ준밧드 왤케 뒤에서 콕콕찌르는 드립 개웃기냐ㅋㄱㄱㄱㅋㄱㄱㅋ\n5:47 씌발ㅋㄱㅋ\n05:02 와 진짜 구거님 개 쩌는데\n8:01 오세블리 얼굴 ㅋㅋㅋㅋㅋ\n0:23 ohzoom(오줌) ㅇㅈㄹ ㅋㅋㅋㅋㅋ\n8:52 진심으로 뿌듯해 하는 표정 ㅠ 존나 귀여워 인직 ㅠㅠ ...\n2:36 \"스트 했다\"\n4:57 감스트가 아니라 구거였구나..\n1:25 기모찌맨 감스트 기분좋게 해주네\n기분좋게해주네 페메 보냈나?\n그런데 오세블리 진짜 왜 울었어요..?\n5:07 구거 뒤로 돌아서 통로차단한거 센스 지린다\n8:37 감명수 등장 ㅋㅋㅋㅋ\n\"스트형 기분좋게 해줄게.\"  \"담주 본선에선 안봐.\"\n수찬이 인직이형 기분좋게해주누\n... ㅋㅋㅋ\n오늘25일부터 26일까지 멸망전 투표기간입니다 투표에서 떨어지면 멸망전에 나갈수없습니다 ㅠㅠ http://gamevote.afreecatv.com/?idx=30  들어가셔서 3C2G팀 감스트 준밧드 오세블리 나는상윤 구거팀 투표해주시면 감사하겠습니다! 아프리카 아이디 없으셔도 카카오톡이나 네이버 로그인도 됩니다 꼭 부탁드립니다 ㅠㅠ!!\n여자감스트 오메이커만 믿으라구!!😎 (욕받이선배가😥)\nBJ들이 감스트의 플궁을 극찬하는걸 본 김민교: 마치 \"우리아이가 점프를 해요!!!!\" 하는걸 보는거 같았다\n10:52 처음느껴보는 그의 기민한혀놀림\n8:50 ㅁㅊ 입롤 한타\n7:08 ㄹㅇ 개지렸네 ㅋㅋㅋㅋㅋㅋㅋ\n06:54 레전드 말파궁 ㄷㄷ\n6:54 말파궁 장면\n8:50 준밧드 미친 자르반\n제로거님이 잘가르쳐줬네 그걸 바로 써먹는 인직이도 잘했다\n10:24 장인 초대때 플궁 배운거 잘 썼네\n7:02 한전드=롤알못\n9:28 선을 씨게 넘으시면 바로 지건 날아가는거야\n6:53 썸네일\n2:50 편집실화냐 ㅋㅋ 화면전환 ㅈㄴ자연스럽네\n2:40 스트가 베인하는줄 알았네 ㅋㅋ\n8:15 궁쓸때 표정바뀌는거 진짜 너무 귀여웤ㅋㅋㅋㅋㅋㅋ\n흐뭇\n1:15 이미 6데스 인거 ㅈㄴ 웃기네\n“프로도 꼼짝 못 하는 1cm 플 궁”\n6:53 선생님한테 배운거 잘 쓰는거 보고 지렸다\n실제로는 친합니다 !! 꽁트로 봐주세요~!!\n10:14 아마게돈ㅋㅋㅋㅋㅋㅋ미친놈\n13:21 먼 개소리지?.....ㅈㄴ웃기네\n13:53 *INJIK MOVING*\n마치 임신한 아내가 입덧이니 먹을수있는 맛있는 음식을 내놔라는거 같군요. 물론 저는 결혼하지 않았어요.\n파이는 너무 이쁘고 인직이는 너무 기여웡\n5:37 진짜 부부 같다 ㅋㅋㅋ\n05:35부터 ㄹㅇ 부부같다ㅋㅋㅋㅋ 후에 표정까지 완—벽\n11:20 덜렁덜렁 ㅋㅋㅋ\n유튜브형들 아프리카 접속해서 감스트 대상 투표좀 해줘\n2:36 카파\n5:41  ㅋㅋㅋ 인간아!! 라고하니깐 \n진짜 부부같앜ㅋㅋㅋ\n우리 부모님도 인간아, 이 양반아 카는뎈ㅋㅋ\n11:50 나 게스트잖아! 난 감스트잖아.\n이때 오히려 편의점을털어라 망한게 신의한수 였다.. 바로 망하자마자 파이 바로 올라와서 부부꽁트 하는데 ㄹㅇ 개꿀잼이였다\n여자의 \"아무거나~\"라는 표현이 뭔지 다 보여주네 저분이 ㅋㅋ\n05:48 이거 완전히 엄마 톤이야 ㅋㅋㅋ\n5:10 오 이렇게 보니까 살빠진게 확 체감이 되누ㅋㅋㅋ\n어릴때 좋아하는 여자애를 일부러 괴롭히는거 같아\n14:13 채팅창\n14:31 꽃받침 ㅁㅊ다..하..\n안녕하세요 제로거입니다\n긴장했는데 감스트님께서 옆에서 너무 잘 풀어주셔서 \n즐겁게 게임할 수 있었습니다\n감사드립니다\n아프리카 개청자들 브실골이면서 제로거한테 훈수 쳐두네 ㅋㅋㅋ\n여지것 본 선생님들 중 가장 눈높이 교육으로 잘가르치는거 같음\n아기잉직은 칭찬하면서 나긋나긋하게 가르쳐야 함\n'뭐야 탱구 이ㅅㄲ' 진짜 뜬금없어서 ㅈㄴ웃기네 ㅋㅋㅋㅋㅋㅋㅋㅋㅋㅋ\n근데 제로거님 처음에는 자신있어 하는 모습이였는데 아프리카 채팅창 보시고 으기소침 해지신거 살작 마음 아프네요... 초대 받으시고 오셨는데 매너 채팅 해주시지 ..\n8:40 얼마나 드러우면 채팅을 모자이크.. 아으;;\n장인 초대석은 그냥 따로 찍는게 맞을듯.\n아프리카 시청자 수준이 ㅈㄴ 낮아서 못보겠네\n1:30 탱구 갑자기 나오는거 ㅈㄴ웃기네ㅋㅋㅋ\n방구석 챌린저들 ㅋㅋㅋ 초대석에서 쌉캐리 못하니까 왜 초대함 이러는거 예의 1도 없다 ㅋㅋㅋ 감스트도 채팅창 보면서 멘탈 나갔을듯\n1:33 탱구 ㅈㄴ웃기네 ㅋㅋㅋㄱㅋ\n11:53 프로도 반응 못했던 감스트 궁\n진짜 아프리카 채팅 수준 봐라 니들은 제발 방송 보지마라 그냥 좀\n12:18 목소리 ㄹㅈㄷ ㅋㅋㅋㅋ\n아프리카 개청자들 채팅이 얼마나 더러웟으면 자꾸 모자이크가 됐냐\n1:31 탱구 뭔데 웃기냐 ㅋㅋㅋㅋㅋㅋㅋ\n7:50 나도 저런적 많은데\n1:32 탱구 깜짝등장 ㅋㅋ 개귀엽네 ㅋㅋㅋㅋ\n“ 프로도 꼼짝 못한 플 1cm 궁 “\n4:18 이런 드립은 감스트만 할 수 있다 ㅎ\n11:56 와... 멸망전 그 장면... 노린거였구나 스트감....\n형님 기적을 믿습니다\n근데 밧드는 롤 잘하는것도 잘하는건데 사람이 진짜 좋은듯.. 아무리 보이는게 방송이미지라고해도 본인 성격에 기반해서 나오는건데...\n8:28 오세블리의 예언\n11:01 적중\n13:51 루시안 잡고잇는데 루시안 미아거리네 ㅋㅋㅋㅋㅋㅋㅋ\n\"3challenger2gamst\"\n11:24 구거 왈: 형 세트 ㅈㄴ 못하는거 같아요!!!\n11:40 새로운유행어 중간표정 ㅋㅋ\n7:50 게임 초대 닉넴 보고 뿜었네 ㅋㅋㅋㅋ\n15:50 기뉴다 말하는거 존나 웃기네 ㅋㅋ\n10:21 ㅋㅋㅋㅋㅋㅋㅋㅋㅋ 이걸 몬하네\n밧드 ㅈㄴ 호감이다 말하는거랑 감스트 챙겨주는거랑 다 맘에듬..\n\"3C2G flicker\"\n0:27 레전드..\n9:20 이걸 사네\n3:05 인어맨과 조개소년 개웃기네ㅋㅋㅋㅋㅋㅋ\n아프리카 대상투표도 물론이지만 수요일 멸망전 참가 투표도 부탁드립니다!\n감스트 욕받이 하나 더생겨서 엄청 좋아함ㅋㅋㅋㅋㅋㅋㅋㅋㅋㅋ\n13:52 인직이 루시안 이미 바텀에서 싸우고 있는데 탑 미아라 하고 뒷늦게 보고 머리 갸우뚱하는거봐 ㅋㅋㅋ\n감스트 진짜 잘해주고싶은데 못해서 너무 아쉬워하는게 보인다ㅠㅠ 팀한테 폐끼치기싫어서 애쓰는거 이쁘다\n형 오늘 즐롤하는거보고 내가 다 기분좋더라. 못하더라도 너무 자책하지말고 3챌 말잘 듣고 자아생기지말고 우승가보자\n여러분들 수요일쯤 멸망전 팀투표 있을거니 대상투표랑 같이해주세요\n감스트 VS 16살(중3)국가대표 유도대결!!\n[2020.12.03] 방송영상 입니다.\n\n#조준호 #김민수 #거제폭격기\n#샤크김민수TV #싸움의벽 #김민교\n#남순 #임아니 #다쁘 #듀단 #마이민\n\n♥ GAMST YouTube channel subscribe please ♥\n\nGAMST YouTube https://goo.gl/i1A0oN\nGAMST Facebook http://facebook.com/gamst0108\nGAMST Instagram http://Instagram.com/gamst17172\nGAMST TV http://afreeca.com/devil0108\nGAMST TV watch live http://play.afreeca.com/devil0108\n\nCOPYRIGHTS ⓒ 2015 BY GAMST. ALL RIGHTS RESERVED.\n아프리카티비 아프리카tv afreecatv broadcast 감스트 비제이 김인직 인직 방송 bj 감튜브 콘텐츠 컨텐츠 비감 contents gamst injik kiminjik gamtube bgam\n[롤] 감스트 3C2G팀 술먹방! 큰일날뻔.. LOL\n[2020.12.2] 방송영상 입니다.\n\n#김구거 #오세블리 #나는상윤\n#준밧드 #멸망전 #멸망전뒷풀이\n#리그오브레전드 #leagueoflegends #LEAGUEOFLEGENDS\n\n♥ GAMST YouTube channel subscribe please ♥\n\nGAMST YouTube https://goo.gl/i1A0oN\nGAMST Facebook http://facebook.com/gamst0108\nGAMST Instagram http://Instagram.com/gamst17172\nGAMST TV http://afreeca.com/devil0108\nGAMST TV watch live http://play.afreeca.com/devil0108\n\nCOPYRIGHTS ⓒ 2015 BY GAMST. ALL RIGHTS RESERVED.\n아프리카티비 아프리카tv afreecatv broadcast 감스트 비제이 김인직 인직 방송 bj 감튜브 콘텐츠 컨텐츠 비감 contents gamst injik kiminjik gamtube bgam\n[롤] 감스트 유명 프로들 총출동!! 최고의 원딜은?! 컨트롤 심리전 미쳤다.. LOL\n[2020.11.29] 방송영상 입니다.\n\n#민교 #김민교 #리그오브레전드\n#아최봇 #아체봇 #leagueoflegends #LEAGUEOFLEGENDS\n\n♥ GAMST YouTube channel subscribe please ♥\n\nGAMST YouTube https://goo.gl/i1A0oN\nGAMST Facebook http://facebook.com/gamst0108\nGAMST Instagram http://Instagram.com/gamst17172\nGAMST TV http://afreeca.com/devil0108\nGAMST TV watch live http://play.afreeca.com/devil0108\n\nCOPYRIGHTS ⓒ 2015 BY GAMST. ALL RIGHTS RESERVED.\n아프리카티비 아프리카tv afreecatv broadcast 감스트 비제이 김인직 인직 방송 bj 감튜브 콘텐츠 컨텐츠 비감 contents gamst injik kiminjik gamtube bgam\n감스트 ★쿠로★ 초대석 + 15마린급 뒷텔 감스트의 오더!! LOL\n[2020.11.27] 방송영상 입니다.\n\n#kuro #리그오브레전드 #leagueoflegends\n#LEAGUEOFLEGENDS #준밧드 #나는상윤\n#구거 #오세블리 #3C2G #멸망전 #롤멸망전\n\n♥ GAMST YouTube channel subscribe please ♥\n\nGAMST YouTube https://goo.gl/i1A0oN\nGAMST Facebook http://facebook.com/gamst0108\nGAMST Instagram http://Instagram.com/gamst17172\nGAMST TV http://afreeca.com/devil0108\nGAMST TV watch live http://play.afreeca.com/devil0108\n\nCOPYRIGHTS ⓒ 2015 BY GAMST. ALL RIGHTS RESERVED.\n아프리카티비 아프리카tv afreecatv broadcast 감스트 비제이 김인직 인직 방송 bj 감튜브 콘텐츠 컨텐츠 비감 contents gamst injik kiminjik gamtube bgam\n감스트 남자8명 vs 먹방BJ히밥(혼자) 초밥,짜장면,햄버거 푸드파이터 대결! 생방송13만명이본 레전드 MUKBANG FOOD CHALLENGE\n[2020.11.28] 방송영상 입니다.\n\n#푸파 #히밥 #FOODFIGHTER\n#음식빨리먹기 #스피드먹방\n#민교 #기훈 #깨박 \n#케이 #엄삼용 #빛가오 #박사장\n\n♥ GAMST YouTube channel subscribe please ♥\n\nGAMST YouTube https://goo.gl/i1A0oN\nGAMST Facebook http://facebook.com/gamst0108\nGAMST Instagram http://Instagram.com/gamst17172\nGAMST TV http://afreeca.com/devil0108\nGAMST TV watch live http://play.afreeca.com/devil0108\n\nCOPYRIGHTS ⓒ 2015 BY GAMST. ALL RIGHTS RESERVED.\n아프리카티비 아프리카tv afreecatv broadcast 감스트 비제이 김인직 인직 방송 bj 감튜브 콘텐츠 컨텐츠 비감 contents gamst injik kiminjik gamtube bgam\n[롤] 감스트 그랜드마스터가 실버한테 죽는다?ㅋㅋㅋㅋㅋㅋㅋㅋㅋㅋㅋㅋㅋ  LOL\n[2020.11.23,25] 방송영상 입니다.\n\n#리그오브레전드 #leagueoflegends #LEAGUEOFLEGENDS\n#전수찬 #수찬 #벌레컷 \n#준밧드 #나는상윤 #구거 #오세블리\n#3C2G\n\n♥ GAMST YouTube channel subscribe please ♥\n\nGAMST YouTube https://goo.gl/i1A0oN\nGAMST Facebook http://facebook.com/gamst0108\nGAMST Instagram http://Instagram.com/gamst17172\nGAMST TV http://afreeca.com/devil0108\nGAMST TV watch live http://play.afreeca.com/devil0108\n\nCOPYRIGHTS ⓒ 2015 BY GAMST. ALL RIGHTS RESERVED.\n아프리카티비 아프리카tv afreecatv broadcast 감스트 비제이 김인직 인직 방송 bj 감튜브 콘텐츠 컨텐츠 비감 contents gamst injik kiminjik gamtube bgam\n[롤] 프로게이머도 당황한 감스트의 슈퍼플레이!! LOL\n[2020.11.21] 방송영상 입니다.\n\n#오세블리 #내현 #리그오브레전드\n#준밧드 #나는상윤 #leagueoflegends\n#LEAGUEOFLEGENDS\n\n♥ GAMST YouTube channel subscribe please ♥\n\nGAMST YouTube https://goo.gl/i1A0oN\nGAMST Facebook http://facebook.com/gamst0108\nGAMST Instagram http://Instagram.com/gamst17172\nGAMST TV http://afreeca.com/devil0108\nGAMST TV watch live http://play.afreeca.com/devil0108\n\nCOPYRIGHTS ⓒ 2015 BY GAMST. ALL RIGHTS RESERVED.\n아프리카티비 아프리카tv afreecatv broadcast 감스트 비제이 김인직 인직 방송 bj 감튜브 콘텐츠 컨텐츠 비감 contents gamst injik kiminjik gamtube bgam\n감스트 하.. 이 여자 쉽지 않네요...\n[2020.11.21] 방송영상 입니다.\n\n#파이 #인직\n\n♥ GAMST YouTube channel subscribe please ♥\n\nGAMST YouTube https://goo.gl/i1A0oN\nGAMST Facebook http://facebook.com/gamst0108\nGAMST Instagram http://Instagram.com/gamst17172\nGAMST TV http://afreeca.com/devil0108\nGAMST TV watch live http://play.afreeca.com/devil0108\n\nCOPYRIGHTS ⓒ 2015 BY GAMST. ALL RIGHTS RESERVED.\n아프리카티비 아프리카tv afreecatv broadcast 감스트 비제이 김인직 인직 방송 bj 감튜브 콘텐츠 컨텐츠 비감 contents gamst injik kiminjik gamtube bgam\n[롤] 감스트 말파이트만 12000판 세계1등 ★제로거★초대석!!  LOL\n[2020.11.21] 방송영상 입니다.\n\n#leagueoflegends #리그오브레전드 #LEAGUEOFLEGENDS\n\n♥ GAMST YouTube channel subscribe please ♥\n\nGAMST YouTube https://goo.gl/i1A0oN\nGAMST Facebook http://facebook.com/gamst0108\nGAMST Instagram http://Instagram.com/gamst17172\nGAMST TV http://afreeca.com/devil0108\nGAMST TV watch live http://play.afreeca.com/devil0108\n\nCOPYRIGHTS ⓒ 2015 BY GAMST. ALL RIGHTS RESERVED.\n아프리카티비 아프리카tv afreecatv broadcast 감스트 비제이 김인직 인직 방송 bj 감튜브 콘텐츠 컨텐츠 비감 contents gamst injik kiminjik gamtube bgam\n[롤] 감스트 멸망전 나갑니다! 멤버가 3챌린저에 2실버?? 꼭 보세요 10레전드!! LOL\n[2020.11.18~19] 방송영상 입니다.\n\n#나는상윤 #준밧드 #구거\n#오세블리 #롤멸망전 #LEAGUEOFLEGENDS\n#leagueoflegends\n\n♥ GAMST YouTube channel subscribe please ♥\n\nGAMST YouTube https://goo.gl/i1A0oN\nGAMST Facebook http://facebook.com/gamst0108\nGAMST Instagram http://Instagram.com/gamst17172\nGAMST TV http://afreeca.com/devil0108\nGAMST TV watch live http://play.afreeca.com/devil0108\n\nCOPYRIGHTS ⓒ 2015 BY GAMST. ALL RIGHTS RESERVED.\n아프리카티비 아프리카tv afreecatv broadcast 감스트 비제이 김인직 인직 방송 bj 감튜브 콘텐츠 컨텐츠 비감 contents gamst injik kiminjik gamtube bgam\n"
     ]
    }
   ],
   "source": [
    "# 크롤링 결과 가져오기\n",
    "\n",
    "f = open('../youtubeapicrawler/crawling_result/gamst.txt', mode='rt', encoding='utf-8')\n",
    "\n",
    "strings = f.read()\n",
    "\n",
    "print(result_str)"
   ]
  },
  {
   "cell_type": "code",
   "execution_count": 2,
   "metadata": {},
   "outputs": [],
   "source": [
    "#불용어사전(자체 제작)\n",
    "stopwords = ['라', '중', '이', '때문', '지', '이상', '등', '수', '것', '시작', '부분', '당시', '경우', '이후', '오브', '리그', '편', '위', '정도', '활동', '전', \n",
    "    '한', '도중', '자체', '경기', '방송이','때','녹두','이유','문단을','대부분','번','일','리','두','초','나','문단','문','방송','적','후','단어','게임','유튜브','영상','말','역사','시청자들','본인','이전','시청자','2020년','2018년','2019년','2017년','2016년','업로드','콘텐츠','듯','현재','명','들','사람','1','개','관련','채널','모습','주','거','내','사이','자신','유튜버','컨텐츠','생각'] +['1월','2월','3월','4월','5월','6월','7월','8월','9월','10월','11월','12월']"
   ]
  },
  {
   "cell_type": "code",
   "execution_count": 8,
   "metadata": {},
   "outputs": [
    {
     "output_type": "stream",
     "name": "stdout",
     "text": [
      "[{'color': (71, 231, 64), 'tag': '감스트', 'size': 126}, {'color': (176, 171, 133), 'tag': 'ㅋㅋㅋㅋㅋ', 'size': 111}, {'color': (249, 9, 230), 'tag': '진짜', 'size': 72}, {'color': (244, 160, 49), 'tag': 'ㅋㅋㅋ', 'size': 66}, {'color': (164, 102, 49), 'tag': 'ㅋㅋ', 'size': 60}, {'color': (44, 142, 136), 'tag': '♥', 'size': 60}, {'color': (196, 39, 215), 'tag': '8', 'size': 57}, {'color': (165, 61, 69), 'tag': '인직', 'size': 39}, {'color': (161, 60, 164), 'tag': '김인직', 'size': 36}, {'color': (19, 43, 116), 'tag': '11', 'size': 36}, {'color': (25, 156, 122), 'tag': '제', 'size': 33}, {'color': (105, 185, 5), 'tag': '7', 'size': 30}, {'color': (243, 39, 192), 'tag': '5', 'size': 30}, {'color': (39, 221, 165), 'tag': '9', 'size': 30}, {'color': (253, 253, 130), 'tag': '50', 'size': 30}, {'color': (129, 233, 145), 'tag': '13', 'size': 30}, {'color': (105, 117, 179), 'tag': '2020.', 'size': 30}, {'color': (169, 107, 86), 'tag': '방송영상', 'size': 30}, {'color': (218, 158, 240), 'tag': 'ⓒ', 'size': 30}, {'color': (29, 179, 59), 'tag': '2015', 'size': 30}, {'color': (34, 245, 167), 'tag': '아프리카티비', 'size': 30}, {'color': (215, 32, 136), 'tag': '아프리카tv', 'size': 30}, {'color': (0, 32, 149), 'tag': '감튜브', 'size': 30}, {'color': (11, 148, 202), 'tag': '비감', 'size': 30}, {'color': (55, 104, 249), 'tag': '오세블리', 'size': 27}, {'color': (144, 27, 178), 'tag': '10', 'size': 27}, {'color': (85, 172, 165), 'tag': '아프리카', 'size': 27}, {'color': (167, 85, 239), 'tag': '2', 'size': 24}, {'color': (187, 230, 208), 'tag': '롤', 'size': 24}, {'color': (67, 223, 208), 'tag': 'ㅋㅋㅋㅋ', 'size': 24}, {'color': (231, 115, 199), 'tag': '11.', 'size': 24}, {'color': (66, 10, 206), 'tag': '6', 'size': 21}, {'color': (15, 33, 233), 'tag': '18', 'size': 21}, {'color': (55, 17, 150), 'tag': '레전드', 'size': 21}, {'color': (165, 206, 181), 'tag': '40', 'size': 21}, {'color': (52, 230, 240), 'tag': '#leagueoflegends', 'size': 21}, {'color': (219, 119, 231), 'tag': '#LEAGUEOFLEGENDS', 'size': 21}, {'color': (64, 14, 59), 'tag': '20', 'size': 18}, {'color': (175, 67, 9), 'tag': 'ㅈㄴ', 'size': 18}, {'color': (49, 178, 218), 'tag': '21', 'size': 18}, {'color': (176, 211, 223), 'tag': '05', 'size': 18}, {'color': (92, 199, 186), 'tag': '멸망전', 'size': 18}, {'color': (80, 247, 59), 'tag': '#리그오브레전드', 'size': 18}, {'color': (72, 138, 100), 'tag': '4', 'size': 15}, {'color': (67, 80, 91), 'tag': '구거', 'size': 15}, {'color': (19, 54, 183), 'tag': '26', 'size': 15}, {'color': (197, 210, 22), 'tag': '상윤', 'size': 15}, {'color': (38, 159, 33), 'tag': '15', 'size': 15}, {'color': (67, 16, 246), 'tag': '24', 'size': 15}, {'color': (32, 71, 220), 'tag': 'ㅠㅠ', 'size': 15}, {'color': (100, 199, 92), 'tag': 'ㄹㅇ', 'size': 15}, {'color': (200, 167, 91), 'tag': '53', 'size': 15}, {'color': (103, 54, 80), 'tag': 'ㅋ', 'size': 15}, {'color': (247, 157, 14), 'tag': '탱구', 'size': 15}, {'color': (154, 56, 36), 'tag': '#오세블리', 'size': 15}, {'color': (70, 209, 68), 'tag': '#나는상윤', 'size': 15}, {'color': (40, 196, 97), 'tag': '#준밧드', 'size': 15}, {'color': (205, 133, 45), 'tag': '다음', 'size': 12}, {'color': (17, 40, 3), 'tag': '03', 'size': 12}, {'color': (133, 211, 161), 'tag': '27', 'size': 12}, {'color': (72, 169, 25), 'tag': '31', 'size': 12}, {'color': (95, 127, 50), 'tag': '19', 'size': 12}, {'color': (149, 2, 53), 'tag': '개웃기네', 'size': 12}, {'color': (135, 121, 153), 'tag': '존', 'size': 12}, {'color': (144, 131, 222), 'tag': '54', 'size': 12}, {'color': (111, 164, 229), 'tag': '52', 'size': 12}, {'color': (125, 12, 28), 'tag': 'ㄷㄷ', 'size': 12}, {'color': (140, 82, 109), 'tag': '28', 'size': 12}, {'color': (193, 77, 226), 'tag': '채팅', 'size': 12}, {'color': (140, 202, 71), 'tag': '감스트님', 'size': 9}, {'color': (171, 176, 244), 'tag': '56', 'size': 9}, {'color': (252, 14, 226), 'tag': '02', 'size': 9}, {'color': (133, 86, 212), 'tag': '01', 'size': 9}, {'color': (137, 48, 80), 'tag': '38', 'size': 9}, {'color': (247, 25, 143), 'tag': '57', 'size': 9}, {'color': (118, 121, 238), 'tag': '편집', 'size': 9}, {'color': (146, 250, 32), 'tag': '35', 'size': 9}, {'color': (225, 6, 72), 'tag': 'ㅠ', 'size': 9}, {'color': (210, 187, 241), 'tag': '그', 'size': 9}, {'color': (241, 206, 206), 'tag': '17', 'size': 9}, {'color': (177, 94, 131), 'tag': '스트', 'size': 9}, {'color': (110, 246, 228), 'tag': '준밧드', 'size': 9}, {'color': (76, 16, 167), 'tag': '근데', 'size': 9}, {'color': (136, 255, 9), 'tag': '좋아요좀', 'size': 9}, {'color': (255, 199, 178), 'tag': '45', 'size': 9}, {'color': (187, 8, 243), 'tag': '34', 'size': 9}, {'color': (252, 102, 244), 'tag': '30', 'size': 9}, {'color': (168, 83, 194), 'tag': '33', 'size': 9}, {'color': (133, 98, 26), 'tag': '눈꽃', 'size': 9}, {'color': (163, 1, 210), 'tag': '인직이', 'size': 9}, {'color': (144, 178, 34), 'tag': '피글렛', 'size': 9}, {'color': (177, 60, 95), 'tag': '32', 'size': 9}, {'color': (230, 146, 7), 'tag': '팀', 'size': 9}, {'color': (56, 254, 202), 'tag': '36', 'size': 9}, {'color': (123, 65, 19), 'tag': '우리', 'size': 9}, {'color': (86, 78, 153), 'tag': '12', 'size': 9}, {'color': (3, 38, 131), 'tag': '표정', 'size': 9}, {'color': (153, 33, 106), 'tag': '안녕', 'size': 9}, {'color': (246, 178, 112), 'tag': '히밥', 'size': 9}, {'color': (54, 158, 59), 'tag': '초대', 'size': 9}]\n"
     ]
    }
   ],
   "source": [
    "#워드 클라우드 생성\n",
    "\n",
    "from collections import Counter\n",
    "import random\n",
    "\n",
    "from konlpy.tag import Hannanum\n",
    "import pytagcloud\n",
    "import webbrowser\n",
    "\n",
    "r = lambda: random.randint(0,255)\n",
    "color = lambda: (r(),r(),r())\n",
    "\n",
    "def get_tags(text, ntags=100, multiplier=3):\n",
    "    h = Hannanum()\n",
    "    nouns = h.nouns(text)\n",
    "    unique_nouns = set(nouns)\n",
    "    for word in unique_nouns:\n",
    "        if word in stopwords:\n",
    "            while word in nouns:\n",
    "                nouns.remove(word)\n",
    "\n",
    "\n",
    "\n",
    "    count = Counter(nouns)\n",
    "    return [{ 'color': color(), 'tag': n, 'size': int(c*multiplier) }\\\n",
    "                for n, c in count.most_common(ntags)]\n",
    "\n",
    "def draw_cloud(tags, filename, fontname='Korean', size=(1600, 1200)):\n",
    "    pytagcloud.create_tag_image(tags, filename, fontname=fontname, size=size)\n",
    "    webbrowser.open(filename)\n",
    "\n",
    "\n",
    "tags = get_tags(strings)\n",
    "print(tags)\n",
    "draw_cloud(tags,'WC_You_gamst.png')\n"
   ]
  }
 ]
}