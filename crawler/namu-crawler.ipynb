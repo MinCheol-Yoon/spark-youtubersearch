{
 "metadata": {
  "language_info": {
   "codemirror_mode": {
    "name": "ipython",
    "version": 3
   },
   "file_extension": ".py",
   "mimetype": "text/x-python",
   "name": "python",
   "nbconvert_exporter": "python",
   "pygments_lexer": "ipython3",
   "version": "3.8.5-final"
  },
  "orig_nbformat": 2,
  "kernelspec": {
   "name": "scrapingenv1",
   "display_name": "scrapingEnv1"
  }
 },
 "nbformat": 4,
 "nbformat_minor": 2,
 "cells": [
  {
   "source": [
    "# 나무위키 크롤러 생성"
   ],
   "cell_type": "markdown",
   "metadata": {}
  },
  {
   "source": [
    "## 1. 나무위키 구조 정의\n",
    "\n",
    "<p>\n",
    "    나무위키 컨탠츠 구조<br>\n",
    "    소제목 : h2(class:wiki-heading) -> span(id=소제목)<br>\n",
    "    내용 : div(class:wiki-heading-content) -> div(class:wiki-paragraph)\n",
    "</p>\n"
   ],
   "cell_type": "markdown",
   "metadata": {}
  },
  {
   "cell_type": "code",
   "execution_count": null,
   "metadata": {},
   "outputs": [],
   "source": [
    "#테스트\n",
    "import requests\n",
    "from bs4 import BeautifulSoup\n",
    "\n",
    "req = requests.get('https://namu.wiki/w/녹두로')\n",
    "bs = BeautifulSoup(req.text, 'html.parser')\n",
    "\n",
    "targets = bs.find_all(\"h2\", class_=\"wiki-heading\")\n",
    "for target in targets:\n",
    "    realtarget = target.next_sibling.get_text()\n",
    "    print(realtarget)"
   ]
  },
  {
   "cell_type": "code",
   "execution_count": null,
   "metadata": {},
   "outputs": [],
   "source": [
    "#크롤러\n",
    "import requests\n",
    "from bs4 import BeautifulSoup\n",
    "\n",
    "class Namu_Crawler:\n",
    "    def __init__(self, keyword):\n",
    "        self.keyword = keyword\n",
    "\n",
    "    def getPage(self):\n",
    "        try:\n",
    "            req = requests.get('https://namu.wiki/w/'+self.keyword)\n",
    "        except requests.exceptions.RequestException:\n",
    "            print('request error')\n",
    "            return None\n",
    "        return BeautifulSoup(req.text, 'html.parser')\n",
    "\n",
    "    def crawl(self):\n",
    "        youtuberstring = []\n",
    "        bs = self.getPage()\n",
    "        targets = bs.find_all(\"h2\", class_=\"wiki-heading\")\n",
    "        for target in targets:\n",
    "            youtuberstring.append(target.next_sibling.get_text())\n",
    "        return youtuberstring\n",
    "\n",
    "crawler = Namu_Crawler('감스트')\n",
    "strings = \"\".join(crawler.crawl())\n",
    "strings\n",
    "\n",
    "\n",
    "\n"
   ]
  },
  {
   "cell_type": "code",
   "execution_count": null,
   "metadata": {},
   "outputs": [],
   "source": [
    "#워드클라우드\n",
    "# -*- encoding:utf8 -*-\n",
    "\n",
    "from collections import Counter\n",
    "import random\n",
    "\n",
    "from konlpy.tag import Hannanum\n",
    "import pytagcloud\n",
    "import webbrowser\n",
    "\n",
    "r = lambda: random.randint(0,255)\n",
    "color = lambda: (r(),r(),r())\n",
    "\n",
    "def get_tags(text, ntags=50, multiplier=5):\n",
    "    h = Hannanum()\n",
    "    nouns = h.nouns(text)\n",
    "\n",
    "    #불용어 처리\n",
    "    stopwords = ['라', '중', '이', '때문', '지', '이상', '등', '수', '것', '시작', '부분', '당시', '경우', '이후', '오브', '리그', '편', '위', '정도', '활동', '전', \n",
    "    '한', '도중', '자체', '경기', '방송이']\n",
    "    unique_nouns = set(nouns)\n",
    "    for word in unique_nouns:\n",
    "        if word in stopwords:\n",
    "            while word in nouns:\n",
    "                nouns.remove(word)\n",
    "\n",
    "\n",
    "\n",
    "    count = Counter(nouns)\n",
    "    return [{ 'color': color(), 'tag': n, 'size': c*multiplier }\\\n",
    "                for n, c in count.most_common(ntags)]\n",
    "\n",
    "def draw_cloud(tags, filename, fontname='Korean', size=(1600, 1200)):\n",
    "    pytagcloud.create_tag_image(tags, filename, fontname=fontname, size=size)\n",
    "    webbrowser.open(filename)\n",
    "\n",
    "\n",
    "tags = get_tags(strings)\n",
    "print(tags)\n",
    "draw_cloud(tags,'testcloud.png')\n",
    "\n"
   ]
  }
 ]
}