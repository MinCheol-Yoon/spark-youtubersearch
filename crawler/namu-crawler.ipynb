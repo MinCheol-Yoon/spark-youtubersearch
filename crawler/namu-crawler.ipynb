{
 "metadata": {
  "language_info": {
   "codemirror_mode": {
    "name": "ipython",
    "version": 3
   },
   "file_extension": ".py",
   "mimetype": "text/x-python",
   "name": "python",
   "nbconvert_exporter": "python",
   "pygments_lexer": "ipython3",
   "version": "3.8.5-final"
  },
  "orig_nbformat": 2,
  "kernelspec": {
   "name": "scrapingenv1",
   "display_name": "scrapingEnv1"
  }
 },
 "nbformat": 4,
 "nbformat_minor": 2,
 "cells": [
  {
   "source": [
    "# 나무위키 크롤러 생성"
   ],
   "cell_type": "markdown",
   "metadata": {}
  },
  {
   "source": [
    "## 1. 나무위키 구조 정의\n",
    "\n",
    "<p>\n",
    "    나무위키 컨탠츠 구조<br>\n",
    "    소제목 : h2(class:wiki-heading) -> span(id=소제목)<br>\n",
    "    내용 : div(class:wiki-heading-content) -> div(class:wiki-paragraph)\n",
    "</p>\n"
   ],
   "cell_type": "markdown",
   "metadata": {}
  },
  {
   "cell_type": "code",
   "execution_count": null,
   "metadata": {},
   "outputs": [],
   "source": [
    "#테스트\n",
    "import requests\n",
    "from bs4 import BeautifulSoup\n",
    "\n",
    "req = requests.get('https://namu.wiki/w/녹두로')\n",
    "bs = BeautifulSoup(req.text, 'html.parser')\n",
    "\n",
    "targets = bs.find_all(\"h2\", class_=\"wiki-heading\")\n",
    "for target in targets:\n",
    "    realtarget = target.next_sibling.get_text()\n",
    "    print(realtarget)"
   ]
  },
  {
   "cell_type": "code",
   "execution_count": null,
   "metadata": {},
   "outputs": [],
   "source": [
    "#크롤러\n",
    "import requests\n",
    "from bs4 import BeautifulSoup\n",
    "\n",
    "class Namu_Crawler:\n",
    "    def __init__(self, keyword):\n",
    "        self.keyword = keyword\n",
    "\n",
    "    def getPage(self):\n",
    "        try:\n",
    "            req = requests.get('https://namu.wiki/w/'+self.keyword)\n",
    "        except requests.exceptions.RequestException:\n",
    "            print('request error')\n",
    "            return None\n",
    "        return BeautifulSoup(req.text, 'html.parser')\n",
    "\n",
    "    def crawl(self):\n",
    "        youtuberstring = []\n",
    "        bs = self.getPage()\n",
    "        targets = bs.find_all(\"h2\", class_=\"wiki-heading\")\n",
    "        for target in targets:\n",
    "            youtuberstring.append(target.next_sibling.get_text())\n",
    "        return youtuberstring\n",
    "\n",
    "crawler = Namu_Crawler('감스트')\n",
    "strings = \"\".join(crawler.crawl())\n",
    "strings\n",
    "\n"
   ]
  },
  {
   "cell_type": "code",
   "execution_count": 49,
   "metadata": {},
   "outputs": [
    {
     "output_type": "stream",
     "name": "stdout",
     "text": [
      "[{'color': (216, 80, 18), 'tag': '방송', 'size': 530}, {'color': (172, 194, 229), 'tag': '말', 'size': 480}, {'color': (214, 149, 229), 'tag': '감스트', 'size': 380}, {'color': (14, 45, 254), 'tag': '게임', 'size': 290}, {'color': (153, 73, 188), 'tag': '것', 'size': 270}, {'color': (145, 142, 53), 'tag': '시청자들', 'size': 200}, {'color': (57, 110, 43), 'tag': '본인', 'size': 200}, {'color': (16, 30, 46), 'tag': '중', 'size': 190}, {'color': (49, 53, 237), 'tag': '때', 'size': 180}, {'color': (218, 133, 242), 'tag': '라', 'size': 140}, {'color': (167, 112, 168), 'tag': '등', 'size': 130}, {'color': (198, 159, 200), 'tag': '이후', 'size': 130}, {'color': (81, 101, 168), 'tag': '수', 'size': 130}, {'color': (83, 7, 37), 'tag': '콘텐츠', 'size': 120}, {'color': (38, 119, 203), 'tag': '리그', 'size': 120}, {'color': (241, 17, 146), 'tag': '컨텐츠', 'size': 120}, {'color': (202, 195, 20), 'tag': '경우', 'size': 120}, {'color': (255, 72, 142), 'tag': '시작', 'size': 110}, {'color': (6, 115, 208), 'tag': '복귀', 'size': 110}, {'color': (92, 81, 189), 'tag': '중계', 'size': 110}, {'color': (16, 254, 167), 'tag': '모습', 'size': 110}, {'color': (164, 104, 174), 'tag': '진행', 'size': 100}, {'color': (35, 0, 193), 'tag': '축구', 'size': 100}, {'color': (156, 32, 61), 'tag': '정도', 'size': 100}, {'color': (54, 116, 197), 'tag': '2020년', 'size': 100}, {'color': (5, 124, 50), 'tag': '게스트', 'size': 100}, {'color': (36, 193, 119), 'tag': '아프리카TV', 'size': 90}, {'color': (240, 55, 206), 'tag': '당시', 'size': 90}, {'color': (40, 126, 104), 'tag': '영상', 'size': 90}, {'color': (234, 123, 134), 'tag': '반응', 'size': 90}, {'color': (43, 120, 50), 'tag': '지', 'size': 90}, {'color': (20, 91, 78), 'tag': '때문', 'size': 90}, {'color': (118, 113, 135), 'tag': '이', 'size': 90}, {'color': (41, 109, 150), 'tag': '피파', 'size': 80}, {'color': (31, 181, 109), 'tag': '온라인', 'size': 80}, {'color': (62, 37, 211), 'tag': '생방송', 'size': 80}, {'color': (201, 151, 235), 'tag': '2019년', 'size': 80}, {'color': (13, 206, 52), 'tag': '유튜브', 'size': 80}, {'color': (180, 38, 97), 'tag': '자체', 'size': 80}, {'color': (184, 135, 253), 'tag': '편', 'size': 80}, {'color': (94, 225, 126), 'tag': '부분', 'size': 80}, {'color': (38, 113, 174), 'tag': '성격', 'size': 80}, {'color': (255, 23, 35), 'tag': '활동', 'size': 70}, {'color': (126, 135, 85), 'tag': '인터넷', 'size': 70}, {'color': (205, 145, 185), 'tag': '개그맨', 'size': 70}, {'color': (58, 49, 184), 'tag': '이상', 'size': 70}, {'color': (41, 192, 161), 'tag': '플레이', 'size': 70}, {'color': (133, 85, 211), 'tag': '리액션', 'size': 70}, {'color': (114, 234, 41), 'tag': '꽁트', 'size': 70}, {'color': (217, 37, 100), 'tag': '채팅', 'size': 70}]\n"
     ]
    },
    {
     "output_type": "error",
     "ename": "AttributeError",
     "evalue": "Invalid font name. Should be one of Nobile, Old Standard TT, Cantarell, Reenie Beanie, Cuprum, Molengo, Neucha, Philosopher, Yanone Kaffeesatz, Cardo, Neuton, Inconsolata, Crimson Text, Josefin Sans, Droid Sans, Lobster, IM Fell DW Pica, Vollkorn, Tangerine, Coustard, PT Sans Regular",
     "traceback": [
      "\u001b[1;31m---------------------------------------------------------------------------\u001b[0m",
      "\u001b[1;31mAttributeError\u001b[0m                            Traceback (most recent call last)",
      "\u001b[1;32m<ipython-input-49-4b43edf1d97b>\u001b[0m in \u001b[0;36m<module>\u001b[1;34m\u001b[0m\n\u001b[0;32m     26\u001b[0m \u001b[0mtags\u001b[0m \u001b[1;33m=\u001b[0m \u001b[0mget_tags\u001b[0m\u001b[1;33m(\u001b[0m\u001b[0mstrings\u001b[0m\u001b[1;33m)\u001b[0m\u001b[1;33m\u001b[0m\u001b[1;33m\u001b[0m\u001b[0m\n\u001b[0;32m     27\u001b[0m \u001b[0mprint\u001b[0m\u001b[1;33m(\u001b[0m\u001b[0mtags\u001b[0m\u001b[1;33m)\u001b[0m\u001b[1;33m\u001b[0m\u001b[1;33m\u001b[0m\u001b[0m\n\u001b[1;32m---> 28\u001b[1;33m \u001b[0mdraw_cloud\u001b[0m\u001b[1;33m(\u001b[0m\u001b[0mtags\u001b[0m\u001b[1;33m,\u001b[0m\u001b[1;34m'testcloud.png'\u001b[0m\u001b[1;33m)\u001b[0m\u001b[1;33m\u001b[0m\u001b[1;33m\u001b[0m\u001b[0m\n\u001b[0m\u001b[0;32m     29\u001b[0m \u001b[1;33m\u001b[0m\u001b[0m\n",
      "\u001b[1;32m<ipython-input-49-4b43edf1d97b>\u001b[0m in \u001b[0;36mdraw_cloud\u001b[1;34m(tags, filename, fontname, size)\u001b[0m\n\u001b[0;32m     20\u001b[0m \u001b[1;33m\u001b[0m\u001b[0m\n\u001b[0;32m     21\u001b[0m \u001b[1;32mdef\u001b[0m \u001b[0mdraw_cloud\u001b[0m\u001b[1;33m(\u001b[0m\u001b[0mtags\u001b[0m\u001b[1;33m,\u001b[0m \u001b[0mfilename\u001b[0m\u001b[1;33m,\u001b[0m \u001b[0mfontname\u001b[0m\u001b[1;33m=\u001b[0m\u001b[1;34m'Korean'\u001b[0m\u001b[1;33m,\u001b[0m \u001b[0msize\u001b[0m\u001b[1;33m=\u001b[0m\u001b[1;33m(\u001b[0m\u001b[1;36m800\u001b[0m\u001b[1;33m,\u001b[0m \u001b[1;36m600\u001b[0m\u001b[1;33m)\u001b[0m\u001b[1;33m)\u001b[0m\u001b[1;33m:\u001b[0m\u001b[1;33m\u001b[0m\u001b[1;33m\u001b[0m\u001b[0m\n\u001b[1;32m---> 22\u001b[1;33m     \u001b[0mpytagcloud\u001b[0m\u001b[1;33m.\u001b[0m\u001b[0mcreate_tag_image\u001b[0m\u001b[1;33m(\u001b[0m\u001b[0mtags\u001b[0m\u001b[1;33m,\u001b[0m \u001b[0mfilename\u001b[0m\u001b[1;33m,\u001b[0m \u001b[0mfontname\u001b[0m\u001b[1;33m=\u001b[0m\u001b[0mfontname\u001b[0m\u001b[1;33m,\u001b[0m \u001b[0msize\u001b[0m\u001b[1;33m=\u001b[0m\u001b[0msize\u001b[0m\u001b[1;33m)\u001b[0m\u001b[1;33m\u001b[0m\u001b[1;33m\u001b[0m\u001b[0m\n\u001b[0m\u001b[0;32m     23\u001b[0m     \u001b[0mwebbrowser\u001b[0m\u001b[1;33m.\u001b[0m\u001b[0mopen\u001b[0m\u001b[1;33m(\u001b[0m\u001b[0mfilename\u001b[0m\u001b[1;33m)\u001b[0m\u001b[1;33m\u001b[0m\u001b[1;33m\u001b[0m\u001b[0m\n\u001b[0;32m     24\u001b[0m \u001b[1;33m\u001b[0m\u001b[0m\n",
      "\u001b[1;32mc:\\pydata\\scrapingenv1\\lib\\site-packages\\pytagcloud\\__init__.py\u001b[0m in \u001b[0;36mcreate_tag_image\u001b[1;34m(tags, output, size, background, layout, fontname, rectangular)\u001b[0m\n\u001b[0;32m    338\u001b[0m         \u001b[1;32mreturn\u001b[0m\u001b[1;33m\u001b[0m\u001b[1;33m\u001b[0m\u001b[0m\n\u001b[0;32m    339\u001b[0m \u001b[1;33m\u001b[0m\u001b[0m\n\u001b[1;32m--> 340\u001b[1;33m     sizeRect, tag_store = _draw_cloud(tags,\n\u001b[0m\u001b[0;32m    341\u001b[0m                                       \u001b[0mlayout\u001b[0m\u001b[1;33m,\u001b[0m\u001b[1;33m\u001b[0m\u001b[1;33m\u001b[0m\u001b[0m\n\u001b[0;32m    342\u001b[0m                                       \u001b[0msize\u001b[0m\u001b[1;33m=\u001b[0m\u001b[0msize\u001b[0m\u001b[1;33m,\u001b[0m\u001b[1;33m\u001b[0m\u001b[1;33m\u001b[0m\u001b[0m\n",
      "\u001b[1;32mc:\\pydata\\scrapingenv1\\lib\\site-packages\\pytagcloud\\__init__.py\u001b[0m in \u001b[0;36m_draw_cloud\u001b[1;34m(tag_list, layout, size, fontname, rectangular)\u001b[0m\n\u001b[0;32m    273\u001b[0m     \u001b[0marea\u001b[0m \u001b[1;33m=\u001b[0m \u001b[1;36m0\u001b[0m\u001b[1;33m\u001b[0m\u001b[1;33m\u001b[0m\u001b[0m\n\u001b[0;32m    274\u001b[0m     \u001b[1;32mfor\u001b[0m \u001b[0mtag\u001b[0m \u001b[1;32min\u001b[0m \u001b[0mtag_list\u001b[0m\u001b[1;33m:\u001b[0m\u001b[1;33m\u001b[0m\u001b[1;33m\u001b[0m\u001b[0m\n\u001b[1;32m--> 275\u001b[1;33m         \u001b[0mtag_sprite\u001b[0m \u001b[1;33m=\u001b[0m \u001b[0mTag\u001b[0m\u001b[1;33m(\u001b[0m\u001b[0mtag\u001b[0m\u001b[1;33m,\u001b[0m \u001b[1;33m(\u001b[0m\u001b[1;36m0\u001b[0m\u001b[1;33m,\u001b[0m \u001b[1;36m0\u001b[0m\u001b[1;33m)\u001b[0m\u001b[1;33m,\u001b[0m \u001b[0mfontname\u001b[0m\u001b[1;33m=\u001b[0m\u001b[0mfontname\u001b[0m\u001b[1;33m)\u001b[0m\u001b[1;33m\u001b[0m\u001b[1;33m\u001b[0m\u001b[0m\n\u001b[0m\u001b[0;32m    276\u001b[0m         \u001b[0marea\u001b[0m \u001b[1;33m+=\u001b[0m \u001b[0mtag_sprite\u001b[0m\u001b[1;33m.\u001b[0m\u001b[0mmask\u001b[0m\u001b[1;33m.\u001b[0m\u001b[0mcount\u001b[0m\u001b[1;33m(\u001b[0m\u001b[1;33m)\u001b[0m\u001b[1;33m\u001b[0m\u001b[1;33m\u001b[0m\u001b[0m\n\u001b[0;32m    277\u001b[0m         \u001b[0mtag_sprites\u001b[0m\u001b[1;33m.\u001b[0m\u001b[0mappend\u001b[0m\u001b[1;33m(\u001b[0m\u001b[0mtag_sprite\u001b[0m\u001b[1;33m)\u001b[0m\u001b[1;33m\u001b[0m\u001b[1;33m\u001b[0m\u001b[0m\n",
      "\u001b[1;32mc:\\pydata\\scrapingenv1\\lib\\site-packages\\pytagcloud\\__init__.py\u001b[0m in \u001b[0;36m__init__\u001b[1;34m(self, tag, initial_position, fontname)\u001b[0m\n\u001b[0;32m     57\u001b[0m         \u001b[0mself\u001b[0m\u001b[1;33m.\u001b[0m\u001b[0mrotation\u001b[0m \u001b[1;33m=\u001b[0m \u001b[1;36m0\u001b[0m\u001b[1;33m\u001b[0m\u001b[1;33m\u001b[0m\u001b[0m\n\u001b[0;32m     58\u001b[0m \u001b[1;33m\u001b[0m\u001b[0m\n\u001b[1;32m---> 59\u001b[1;33m         \u001b[0mself\u001b[0m\u001b[1;33m.\u001b[0m\u001b[0mfont_spec\u001b[0m \u001b[1;33m=\u001b[0m \u001b[0mload_font\u001b[0m\u001b[1;33m(\u001b[0m\u001b[0mfontname\u001b[0m\u001b[1;33m)\u001b[0m\u001b[1;33m\u001b[0m\u001b[1;33m\u001b[0m\u001b[0m\n\u001b[0m\u001b[0;32m     60\u001b[0m         self.font = font.Font(os.path.join(FONT_DIR,\n\u001b[0;32m     61\u001b[0m                                            self.font_spec['ttf']),\n",
      "\u001b[1;32mc:\\pydata\\scrapingenv1\\lib\\site-packages\\pytagcloud\\__init__.py\u001b[0m in \u001b[0;36mload_font\u001b[1;34m(name)\u001b[0m\n\u001b[0;32m     99\u001b[0m         \u001b[1;32mif\u001b[0m \u001b[0mfont\u001b[0m\u001b[1;33m[\u001b[0m\u001b[1;34m'name'\u001b[0m\u001b[1;33m]\u001b[0m \u001b[1;33m==\u001b[0m \u001b[0mname\u001b[0m\u001b[1;33m:\u001b[0m\u001b[1;33m\u001b[0m\u001b[1;33m\u001b[0m\u001b[0m\n\u001b[0;32m    100\u001b[0m             \u001b[1;32mreturn\u001b[0m \u001b[0mfont\u001b[0m\u001b[1;33m\u001b[0m\u001b[1;33m\u001b[0m\u001b[0m\n\u001b[1;32m--> 101\u001b[1;33m     raise AttributeError('Invalid font name. Should be one of %s' % \n\u001b[0m\u001b[0;32m    102\u001b[0m                          \", \".join([f['name'] for f in FONT_CACHE]))\n\u001b[0;32m    103\u001b[0m \u001b[1;33m\u001b[0m\u001b[0m\n",
      "\u001b[1;31mAttributeError\u001b[0m: Invalid font name. Should be one of Nobile, Old Standard TT, Cantarell, Reenie Beanie, Cuprum, Molengo, Neucha, Philosopher, Yanone Kaffeesatz, Cardo, Neuton, Inconsolata, Crimson Text, Josefin Sans, Droid Sans, Lobster, IM Fell DW Pica, Vollkorn, Tangerine, Coustard, PT Sans Regular"
     ]
    }
   ],
   "source": [
    "#워드클라우드\n",
    "# -*- encoding:utf8 -*-\n",
    "\n",
    "from collections import Counter\n",
    "import random\n",
    "\n",
    "from konlpy.tag import Hannanum\n",
    "import pytagcloud\n",
    "import webbrowser\n",
    "\n",
    "r = lambda: random.randint(0,255)\n",
    "color = lambda: (r(),r(),r())\n",
    "\n",
    "def get_tags(text, ntags=50, multiplier=10):\n",
    "    h = Hannanum()\n",
    "    nouns = h.nouns(text)\n",
    "    count = Counter(nouns)\n",
    "    return [{ 'color': color(), 'tag': n, 'size': c*multiplier }\\\n",
    "                for n, c in count.most_common(ntags)]\n",
    "\n",
    "def draw_cloud(tags, filename, fontname='Korean', size=(800, 600)):\n",
    "    pytagcloud.create_tag_image(tags, filename, fontname=fontname, size=size)\n",
    "    webbrowser.open(filename)\n",
    "\n",
    "\n",
    "tags = get_tags(strings)\n",
    "print(tags)\n",
    "draw_cloud(tags,'testcloud.png')\n",
    "\n"
   ]
  }
 ]
}