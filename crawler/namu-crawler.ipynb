{
 "metadata": {
  "language_info": {
   "codemirror_mode": {
    "name": "ipython",
    "version": 3
   },
   "file_extension": ".py",
   "mimetype": "text/x-python",
   "name": "python",
   "nbconvert_exporter": "python",
   "pygments_lexer": "ipython3",
   "version": "3.8.5-final"
  },
  "orig_nbformat": 2,
  "kernelspec": {
   "name": "scrapingenv1",
   "display_name": "scrapingEnv1"
  }
 },
 "nbformat": 4,
 "nbformat_minor": 2,
 "cells": [
  {
   "source": [
    "# 나무위키 크롤러 생성"
   ],
   "cell_type": "markdown",
   "metadata": {}
  },
  {
   "source": [
    "## 1. 나무위키 구조 정의\n",
    "\n",
    "<p>\n",
    "    나무위키 컨탠츠 구조<br>\n",
    "    소제목 : h2(class:wiki-heading) -> span(id=소제목)<br>\n",
    "    내용 : div(class:wiki-heading-content) -> div(class:wiki-paragraph)\n",
    "</p>\n"
   ],
   "cell_type": "markdown",
   "metadata": {}
  },
  {
   "cell_type": "code",
   "execution_count": null,
   "metadata": {},
   "outputs": [],
   "source": [
    "class Content:\n",
    "    #글/페이지 전체에 사용할 기반 클래스\n",
    "    def __init__(self,url,title,body):\n",
    "        self.url = url\n",
    "        self.title = title\n",
    "        self.body = body\n",
    "\n",
    "    def print(self):\n",
    "        #출력 결과 확인 함수\n",
    "        print(\"URL : {}\".format(self.url))\n",
    "        print(\"TITLE : {}\".format(self.title))\n",
    "        print(\"BODY : {}\".format(self.body))\n",
    "\n",
    "class Website:\n",
    "    #웹사이트 구조에 대한 클래스\n",
    "    def __init__(self, name, url, titleTag, bodyTag):\n",
    "        self.name = name\n",
    "        self.url = url\n",
    "        self.titleTag = titleTag\n",
    "        self.bodyTag = bodyTag"
   ]
  },
  {
   "cell_type": "code",
   "execution_count": 1,
   "metadata": {},
   "outputs": [],
   "source": [
    "import requests as req\n",
    "from bs4 import BeautifulSoup\n"
   ]
  },
  {
   "cell_type": "code",
   "execution_count": null,
   "metadata": {},
   "outputs": [],
   "source": []
  }
 ]
}